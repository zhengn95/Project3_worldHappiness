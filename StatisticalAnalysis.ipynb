{
 "cells": [
  {
   "cell_type": "code",
   "execution_count": 4,
   "id": "c4ff11ee-cc98-46bf-8978-5eb4a87287a2",
   "metadata": {},
   "outputs": [],
   "source": [
    "import pandas as pd\n",
    "from geopy.geocoders import Nominatim\n",
    "\n",
    "# Load the CSV file\n",
    "df = pd.read_csv('data/world-happiness-report-2021.csv')\n",
    "\n",
    "# Create an instance of Nominatim geocoder\n",
    "geolocator = Nominatim(user_agent=\"my_geocoder\")\n",
    "\n",
    "# Function to get latitude and longitude\n",
    "def get_lat_lon(country):\n",
    "    location = geolocator.geocode(country, timeout=10)\n",
    "    if location:\n",
    "        return location.latitude, location.longitude\n",
    "    else:\n",
    "        return None, None\n",
    "\n",
    "# Create new 'Latitude' and 'Longitude' columns\n",
    "df['Latitude'], df['Longitude'] = zip(*df['Country name'].apply(get_lat_lon))\n",
    "\n",
    "# Save the updated DataFrame back to CSV\n",
    "df.to_csv('data/world-happiness-report-2021-with-coordinates.csv', index=False)"
   ]
  },
  {
   "cell_type": "code",
   "execution_count": null,
   "id": "b064ba8b-5a60-40ba-a555-e4c6f2f174dc",
   "metadata": {},
   "outputs": [],
   "source": []
  }
 ],
 "metadata": {
  "kernelspec": {
   "display_name": "Python 3 (ipykernel)",
   "language": "python",
   "name": "python3"
  },
  "language_info": {
   "codemirror_mode": {
    "name": "ipython",
    "version": 3
   },
   "file_extension": ".py",
   "mimetype": "text/x-python",
   "name": "python",
   "nbconvert_exporter": "python",
   "pygments_lexer": "ipython3",
   "version": "3.10.13"
  }
 },
 "nbformat": 4,
 "nbformat_minor": 5
}
